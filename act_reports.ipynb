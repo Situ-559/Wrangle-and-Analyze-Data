
Insights and visualization
I am interested in knowing which stage of the dogs is mostly mentioned and rated in twitter. By using the file 'twitter_archive_master.csv' that I cleaned, I was able to see that there are total 352 non-null stage data. Among the 352 values, pupper tops all with 67% of dogs in pupper stage. This means that most dogs uploaded with images in twitter are in stage pupper. Puppers usually means younger dog, it is obvious that people like talking more about young pupper. Pupper is followed by the stage called doggo, which takes 21% among all. Doggo is a big pupper, usually older. The next stage is puppo which a considered as a transitional phase between pupper and doggo.

In [27]:
df_final.dog_stages.value_counts().plot(kind='pie')
Out[27]:
<matplotlib.axes._subplots.AxesSubplot at 0x1850b42f518>

This pie chart shows that pupper takes more that 50% of the total dog stages. It is the dominant stage among all. This might indicate that people favors pupper more than others. Stage doggo takes the second place. puppo follows is the third pouplar stage.

The highest rating found in the dataframe is 177.6. The tweet_id associated with the rating is 749981277374128128, the dog's name is Atticus. Retweet count is 2634, the favorite count is 5378. But the best rating does not mean it gets the most favorite count and retweet count.

I also investigated the names of dogs posted in twitter. 'Lucy' and 'Charlie' turn out to be the most popular dog names, followed by 'Cooper' and 'Oliver'.

It looks like that the most favorite count and retweet count belong to the same tweet id 744234799360020481. It might indicatet that the retweet and favorite counts have the same pattern or one is related to another. So I made a line chart to show the pattern.

In [44]:
# Draw line chart to show the pattern of retweet and favorite counts among all tweet_id
plt.figure(figsize=(25,15))
plt.plot(df_final.index, df_final['retweet_count'])
plt.plot(df_final.index, df_final['favorite_count'])
plt.legend(['retweet_count', 'favorite_count'], loc='upper left')
plt.xlabel('tweet_id(index is used)', fontsize=18)
plt.ylabel('number', fontsize=18)
plt.title('Retweet and favorite counts in tweeters', fontsize=20)
plt.show()

Overal, a higher retweet count has a a higher favorite count. They seems to have a similar trend.
